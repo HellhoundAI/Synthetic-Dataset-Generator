{
 "cells": [
  {
   "cell_type": "code",
   "execution_count": 16,
   "metadata": {},
   "outputs": [],
   "source": [
    "def push_indices(indices, new_index, attack_length):\n",
    "    # add do pole provadet tady, vracet nove pole\n",
    "    # lze takto menit pole? zevnitr foreach cyklu? vyzkouset v notebook\n",
    "    for index in indices:\n",
    "        if new_index <= index:\n",
    "            index_to_push = indices.index(index)\n",
    "            indices[index_to_push] = indices[index_to_push] + attack_length\n",
    "            \n",
    "            \n",
    "    indices.append(new_index)\n",
    "    indices.sort()\n",
    "    return indices"
   ]
  },
  {
   "cell_type": "code",
   "execution_count": 29,
   "metadata": {},
   "outputs": [],
   "source": [
    "indices = [5, 10, 15]\n",
    "attack_length = 4"
   ]
  },
  {
   "cell_type": "code",
   "execution_count": 34,
   "metadata": {},
   "outputs": [
    {
     "data": {
      "text/plain": [
       "[3, 7, 11, 15, 19, 25, 30, 35]"
      ]
     },
     "execution_count": 34,
     "metadata": {},
     "output_type": "execute_result"
    }
   ],
   "source": [
    "new_index = 3\n",
    "indices.sort()\n",
    "indices = push_indices(indices, new_index, attack_length)\n",
    "indices"
   ]
  }
 ],
 "metadata": {
  "kernelspec": {
   "display_name": ".venv",
   "language": "python",
   "name": ".venv"
  },
  "language_info": {
   "codemirror_mode": {
    "name": "ipython",
    "version": 3
   },
   "file_extension": ".py",
   "mimetype": "text/x-python",
   "name": "python",
   "nbconvert_exporter": "python",
   "pygments_lexer": "ipython3",
   "version": "3.7.3"
  }
 },
 "nbformat": 4,
 "nbformat_minor": 4
}
