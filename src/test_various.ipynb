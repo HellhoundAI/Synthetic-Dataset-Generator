{
 "cells": [
  {
   "cell_type": "code",
   "execution_count": null,
   "metadata": {},
   "outputs": [],
   "source": [
    "# precist soubor do pole (readlines)\n",
    "# podobne jako generate to file pak pridavat ty counts?\n",
    "# pandas?\n",
    "# pres dictionary mit username: prvni vyskyt\n",
    "# potom updatovat ten vyskyt na nejposlednejsi\n",
    "# pri pridavani do txt file pozor na carky"
   ]
  },
  {
   "cell_type": "code",
   "execution_count": 18,
   "metadata": {},
   "outputs": [
    {
     "name": "stdout",
     "output_type": "stream",
     "text": [
      "{'drahomira': 7, 'radoslav': 6}\n",
      "['last_action', 0, 0, 2, 2, 2, 2, 1, 0, 1, 2]\n"
     ]
    }
   ],
   "source": [
    "# dict s uzivatelskymi jmeny a casy posledni nalezene akce\n",
    "users = {}\n",
    "# pole s casy od poslednich akci pro kazdy radek (ne pro usernames)\n",
    "last_actions = []\n",
    "with open(\"test_count.txt\", \"r\") as f_in:\n",
    "    for line_n, line in enumerate(f_in):\n",
    "        if line_n == 0:\n",
    "            # prvni radek nazev sloupce\n",
    "            last_actions.append(\"last_action\")\n",
    "            continue\n",
    "\n",
    "        line_list = line.split(\",\")\n",
    "        user = line_list[1]\n",
    "        time = int(line_list[2])\n",
    "\n",
    "        if user in users:\n",
    "            last_action = time - users[user]\n",
    "            last_actions.append(last_action)\n",
    "            # aktualizace casu posledni nalezene akce v dict\n",
    "            users[user] = time\n",
    "        else:\n",
    "            # prvni pripad s timto username, cas od posledni akce je tedy 0\n",
    "            last_actions.append(0)\n",
    "            users[user] = time\n",
    "\n",
    "print(users)\n",
    "print(last_actions)"
   ]
  },
  {
   "cell_type": "code",
   "execution_count": 22,
   "metadata": {},
   "outputs": [
    {
     "name": "stdout",
     "output_type": "stream",
     "text": [
      "id,uzivatel,datum,url,odkud,oblast,parametry,last_action\n",
      "\n",
      "2,drahomira,0,google,doma,eduroam,mobil,0\n",
      "\n",
      "5,radoslav,1,yahoo,doma,eduroam,pc,0\n",
      "\n",
      "0,drahomira,2,yahoo,venku,eduroam,pc,2\n",
      "\n",
      "1,radoslav,3,google,venku,zamestnanec,pc,2\n",
      "\n",
      "5,drahomira,4,yahoo,doma,student,mobil,2\n",
      "\n",
      "0,radoslav,5,yahoo,doma,student,mobil,2\n",
      "\n",
      "4,drahomira,5,google,doma,eduroam,mobil,1\n",
      "\n",
      "1,radoslav,5,google,venku,zamestnanec,pc,0\n",
      "\n",
      "4,radoslav,6,yahoo,venku,student,pc,1\n",
      "\n",
      "0,drahomira,7,google,doma,student,mobil,2\n",
      "\n"
     ]
    }
   ],
   "source": [
    "f_log = open(\"test_count.txt\", \"r\")\n",
    "contents = f_log.readlines()\n",
    "f_log.close()\n",
    "\n",
    "contents_modified = []\n",
    "\n",
    "for line_n, line in enumerate(contents):\n",
    "    # vim vzdycky ze line[-1] bude \\n (kvuli file format check)\n",
    "    # print(repr(line[-1]))\n",
    "    line_mod = line[0:-1] + \",\" + str(last_actions[line_n]) + \"\\n\"\n",
    "    # print(repr(line))\n",
    "    # print(repr(line_mod))\n",
    "    print(line_mod)\n",
    "    contents_modified.append(line_mod)\n",
    "\n",
    "\n",
    "f_out = open(\"test_count.txt\", \"w\")\n",
    "f_out.writelines(contents_modified)\n",
    "f_out.close()"
   ]
  },
  {
   "cell_type": "code",
   "execution_count": 3,
   "metadata": {},
   "outputs": [],
   "source": [
    "## transformace datasetu, aby datum byla rostouci rada cisel\n",
    "\n",
    "f_log = open(\"test_long.txt\", \"r\")\n",
    "contents = f_log.readlines()\n",
    "f_log.close()\n",
    "\n",
    "contents_modified = []\n",
    "\n",
    "for line_n, line in enumerate(contents):\n",
    "    line_list = line.split(\",\")\n",
    "    if line_n == 0:\n",
    "        contents_modified.append(line)\n",
    "        continue\n",
    "\n",
    "    line_list[2] = str(line_n - 1)\n",
    "    separator = \",\"\n",
    "    line_mod = separator.join(line_list)\n",
    "    contents_modified.append(separator.join(line_list))\n",
    "\n",
    "f_out = open(\"test_long.txt\", \"w\")\n",
    "f_out.writelines(contents_modified)\n",
    "f_out.close()"
   ]
  },
  {
   "cell_type": "code",
   "execution_count": null,
   "metadata": {},
   "outputs": [],
   "source": [
    "# separator zmenit? - neni potreba\n",
    "# stripovat \"\" kdyz se joinuje/splituje? - ano\n",
    "# pozor na ty hodnoty \\N - spravne se escapuje samo zda se\n",
    "# pozor na tvar, ktery budu pridavat \n",
    "# csv parser? DictReader? - DictReader asi nema smysl, parser blbne u writingu (a reader nelze pouzit bez writeru)\n",
    "# mozna to soucasne reseni je ale dost casove narocne a bude potreba pouzit csv (pokud vubec je rychlejsi)"
   ]
  },
  {
   "cell_type": "code",
   "execution_count": 2,
   "metadata": {},
   "outputs": [
    {
     "output_type": "stream",
     "name": "stdout",
     "text": [
      "0 ['id_norm', 'user', 'timestamp_norm', 'url_hash', 'ip', 'parameters_hash', 'asn', 'bgp_prefix', 'as_name', 'net_name', 'country_code', 'attack']\n1 ['4632514', 'user1185', '1295992', '4b8e528a6118f3cc346e576063f0ea710cf84c94cb8a5bd494b8dbfb6f0bc2c3', 'ip82797', '7b22c906375917c120961b6103a1caa2034a44954efd1825acc7a71b579edcb8', '48926', '37.143.112.0/21', 'Pe3ny Net s.r.o.', '\\\\N', 'CZ', 'AAA']\n2 ['4632515', 'user1185', '1295992', '4b8e528a6118f3cc346e576063f0ea710cf84c94cb8a5bd494b8dbfb6f0bc2c3', 'ip82797', 'ae7a1aa47d2445d0a960b0980a3f3df01c3c3934aa38674288f4a7ee423f0783', '48926', '37.143.112.0/21', 'Pe3ny Net s.r.o.', '\\\\N', 'CZ', 'AAA']\n3 ['4632516', 'user1185', '1295993', '4b8e528a6118f3cc346e576063f0ea710cf84c94cb8a5bd494b8dbfb6f0bc2c3', 'ip82797', '8bd57d7e2115a820f55a99b9a1ec414855a64ab5187c1825b4cfc9091f4434ce', '48926', '37.143.112.0/21', 'Pe3ny Net s.r.o.', '\\\\N', 'CZ', 'AAA']\n4 ['4632517', 'user1185', '1295993', '4b8e528a6118f3cc346e576063f0ea710cf84c94cb8a5bd494b8dbfb6f0bc2c3', 'ip82797', 'bd18a48a02cc6f5f8c2daf0c821002d0a4c69e040217a6be34ab4afdd1a061e1', '48926', '37.143.112.0/21', 'Pe3ny Net s.r.o.', '\\\\N', 'CZ', 'AAA']\n5 ['4632518', 'user1185', '1295994', '4b8e528a6118f3cc346e576063f0ea710cf84c94cb8a5bd494b8dbfb6f0bc2c3', 'ip82797', '8938113f178d94ed4fa0154d5ec1cd826ee15f963088dec9b457e0b52523661a', '48926', '37.143.112.0/21', 'Pe3ny Net s.r.o.', '\\\\N', 'CZ', 'AAA']\n6 ['4632519', 'user1185', '1295994', '4b8e528a6118f3cc346e576063f0ea710cf84c94cb8a5bd494b8dbfb6f0bc2c3', 'ip82797', 'de4378cd691759535b4efbb2faceb30744e6fa05d44417d6bb50c5c356c7d7cf', '48926', '37.143.112.0/21', 'Pe3ny Net s.r.o.', '\\\\N', 'CZ', 'AAA']\n7 ['4632520', 'user1185', '1295994', '4b8e528a6118f3cc346e576063f0ea710cf84c94cb8a5bd494b8dbfb6f0bc2c3', 'ip82797', '22f67642c417c3defb969a055e714771ae51b2f5f94af4ffa6c0963429af3ea1', '48926', '37.143.112.0/21', 'Pe3ny Net s.r.o.', '\\\\N', 'CZ', 'AAA']\n8 ['4632521', 'user1994', '1295995', 'ce2b1e7bcd2d400f19667c64ce7f12a7a24d54dfe4718f623fef152c78324619', 'ip78795', 'c358d74d617752a38a2dc6b4e30fe7845ca558bb8a5b9ea453ee64672bac543e', '29321', '217.195.160.0/20', 'CentroNet a.s.', '\\\\N', 'CZ', '\\\\N']\n9 ['4632522', 'user1185', '1295995', '4b8e528a6118f3cc346e576063f0ea710cf84c94cb8a5bd494b8dbfb6f0bc2c3', 'ip82797', 'e95ae681e258202750f3a676dc01eb5b25d9332d3c18de1d8fe5aeef29c2c3e1', '48926', '37.143.112.0/21', 'Pe3ny Net s.r.o.', '\\\\N', 'CZ', 'AAA']\n10 ['4632523', 'user1185', '1295995', '4b8e528a6118f3cc346e576063f0ea710cf84c94cb8a5bd494b8dbfb6f0bc2c3', 'ip82797', '55e4592666c22558329890e7a726156cc8ba34c6c95aafbfb79b087a2d8077b5', '48926', '37.143.112.0/21', 'Pe3ny Net s.r.o.', '\\\\N', 'CZ', 'AAA']\n11 ['4632524', 'user1185', '1295996', '4b8e528a6118f3cc346e576063f0ea710cf84c94cb8a5bd494b8dbfb6f0bc2c3', 'ip82797', 'f55920eab79379da7940bb5fcf299bedf5e26b1ba7a5f4bd5de31709fad2505c', '48926', '37.143.112.0/21', 'Pe3ny Net s.r.o.', '\\\\N', 'CZ', 'AAA']\n12 ['4632525', 'user1185', '1295996', '4b8e528a6118f3cc346e576063f0ea710cf84c94cb8a5bd494b8dbfb6f0bc2c3', 'ip82797', '713b67569e8284eb3ff60c6933329f2ef08c4ed59afea3478af0a428783e5aa4', '48926', '37.143.112.0/21', 'Pe3ny Net s.r.o.', '\\\\N', 'CZ', 'AAA']\n13 ['4632526', 'user452', '1295997', 'ce2b1e7bcd2d400f19667c64ce7f12a7a24d54dfe4718f623fef152c78324619', 'ip454', '2c2ba0595fc513e2608bf6f25219951d0f87642ce32ffc2e2ebc2228fe533317', '5610', '109.80.0.0/15', 'O2 Czech Republic, a.s.', '\\\\N', 'SK', '\\\\N']\n14 ['4632527', 'user1185', '1295997', '4b8e528a6118f3cc346e576063f0ea710cf84c94cb8a5bd494b8dbfb6f0bc2c3', 'ip82797', '675af12df67ad1dfc2c297f87309cca7b4063728c7454b24e36b5fad54352f49', '48926', '37.143.112.0/21', 'Pe3ny Net s.r.o.', '\\\\N', 'CZ', 'AAA']\n15 ['4632528', 'user1185', '1295997', '4b8e528a6118f3cc346e576063f0ea710cf84c94cb8a5bd494b8dbfb6f0bc2c3', 'ip82797', '2c9f1a0a560d045dd087e54a020fd0cab59d345b899342a4c681f0a0f195d8c7', '48926', '37.143.112.0/21', 'Pe3ny Net s.r.o.', '\\\\N', 'CZ', 'AAA']\n"
     ]
    }
   ],
   "source": [
    "## CSV READING TESTING\n",
    "\n",
    "import csv\n",
    "\n",
    "with open('../test_true.txt', 'r') as f:\n",
    "    csv_r = csv.reader(f, delimiter=',')\n",
    "    for line_n, line in enumerate(csv_r):\n",
    "        print(line_n, line)"
   ]
  },
  {
   "cell_type": "code",
   "execution_count": 7,
   "metadata": {},
   "outputs": [
    {
     "output_type": "stream",
     "name": "stdout",
     "text": [
      "['id_norm', 'user', 'timestamp_norm', 'url_hash', 'ip', 'parameters_hash', 'asn', 'bgp_prefix', 'as_name', 'net_name', 'country_code', 'attack\\n']\n['4632514', 'user1185', '1295992', '4b8e528a6118f3cc346e576063f0ea710cf84c94cb8a5bd494b8dbfb6f0bc2c3', 'ip82797', '7b22c906375917c120961b6103a1caa2034a44954efd1825acc7a71b579edcb8', '48926', '37.143.112.0/21', 'Pe3ny Net s.r.o.', '\\\\N', 'CZ', 'AAA\\n']\n['4632515', 'user1185', '1295992', '4b8e528a6118f3cc346e576063f0ea710cf84c94cb8a5bd494b8dbfb6f0bc2c3', 'ip82797', 'ae7a1aa47d2445d0a960b0980a3f3df01c3c3934aa38674288f4a7ee423f0783', '48926', '37.143.112.0/21', 'Pe3ny Net s.r.o.', '\\\\N', 'CZ', 'AAA\\n']\n['4632516', 'user1185', '1295993', '4b8e528a6118f3cc346e576063f0ea710cf84c94cb8a5bd494b8dbfb6f0bc2c3', 'ip82797', '8bd57d7e2115a820f55a99b9a1ec414855a64ab5187c1825b4cfc9091f4434ce', '48926', '37.143.112.0/21', 'Pe3ny Net s.r.o.', '\\\\N', 'CZ', 'AAA\\n']\n['4632517', 'user1185', '1295993', '4b8e528a6118f3cc346e576063f0ea710cf84c94cb8a5bd494b8dbfb6f0bc2c3', 'ip82797', 'bd18a48a02cc6f5f8c2daf0c821002d0a4c69e040217a6be34ab4afdd1a061e1', '48926', '37.143.112.0/21', 'Pe3ny Net s.r.o.', '\\\\N', 'CZ', 'AAA\\n']\n['4632518', 'user1185', '1295994', '4b8e528a6118f3cc346e576063f0ea710cf84c94cb8a5bd494b8dbfb6f0bc2c3', 'ip82797', '8938113f178d94ed4fa0154d5ec1cd826ee15f963088dec9b457e0b52523661a', '48926', '37.143.112.0/21', 'Pe3ny Net s.r.o.', '\\\\N', 'CZ', 'AAA\\n']\n['4632519', 'user1185', '1295994', '4b8e528a6118f3cc346e576063f0ea710cf84c94cb8a5bd494b8dbfb6f0bc2c3', 'ip82797', 'de4378cd691759535b4efbb2faceb30744e6fa05d44417d6bb50c5c356c7d7cf', '48926', '37.143.112.0/21', 'Pe3ny Net s.r.o.', '\\\\N', 'CZ', 'AAA\\n']\n['4632520', 'user1185', '1295994', '4b8e528a6118f3cc346e576063f0ea710cf84c94cb8a5bd494b8dbfb6f0bc2c3', 'ip82797', '22f67642c417c3defb969a055e714771ae51b2f5f94af4ffa6c0963429af3ea1', '48926', '37.143.112.0/21', 'Pe3ny Net s.r.o.', '\\\\N', 'CZ', 'AAA\\n']\n['4632521', 'user1994', '1295995', 'ce2b1e7bcd2d400f19667c64ce7f12a7a24d54dfe4718f623fef152c78324619', 'ip78795', 'c358d74d617752a38a2dc6b4e30fe7845ca558bb8a5b9ea453ee64672bac543e', '29321', '217.195.160.0/20', 'CentroNet a.s.', '\\\\N', 'CZ', '\\\\N\\n']\n['4632522', 'user1185', '1295995', '4b8e528a6118f3cc346e576063f0ea710cf84c94cb8a5bd494b8dbfb6f0bc2c3', 'ip82797', 'e95ae681e258202750f3a676dc01eb5b25d9332d3c18de1d8fe5aeef29c2c3e1', '48926', '37.143.112.0/21', 'Pe3ny Net s.r.o.', '\\\\N', 'CZ', 'AAA\\n']\n['4632523', 'user1185', '1295995', '4b8e528a6118f3cc346e576063f0ea710cf84c94cb8a5bd494b8dbfb6f0bc2c3', 'ip82797', '55e4592666c22558329890e7a726156cc8ba34c6c95aafbfb79b087a2d8077b5', '48926', '37.143.112.0/21', 'Pe3ny Net s.r.o.', '\\\\N', 'CZ', 'AAA\\n']\n['4632524', 'user1185', '1295996', '4b8e528a6118f3cc346e576063f0ea710cf84c94cb8a5bd494b8dbfb6f0bc2c3', 'ip82797', 'f55920eab79379da7940bb5fcf299bedf5e26b1ba7a5f4bd5de31709fad2505c', '48926', '37.143.112.0/21', 'Pe3ny Net s.r.o.', '\\\\N', 'CZ', 'AAA\\n']\n['4632525', 'user1185', '1295996', '4b8e528a6118f3cc346e576063f0ea710cf84c94cb8a5bd494b8dbfb6f0bc2c3', 'ip82797', '713b67569e8284eb3ff60c6933329f2ef08c4ed59afea3478af0a428783e5aa4', '48926', '37.143.112.0/21', 'Pe3ny Net s.r.o.', '\\\\N', 'CZ', 'AAA\\n']\n['4632526', 'user452', '1295997', 'ce2b1e7bcd2d400f19667c64ce7f12a7a24d54dfe4718f623fef152c78324619', 'ip454', '2c2ba0595fc513e2608bf6f25219951d0f87642ce32ffc2e2ebc2228fe533317', '5610', '109.80.0.0/15', 'O2 Czech Republic', ' a.s.', '\\\\N', 'SK', '\\\\N\\n']\n['4632527', 'user1185', '1295997', '4b8e528a6118f3cc346e576063f0ea710cf84c94cb8a5bd494b8dbfb6f0bc2c3', 'ip82797', '675af12df67ad1dfc2c297f87309cca7b4063728c7454b24e36b5fad54352f49', '48926', '37.143.112.0/21', 'Pe3ny Net s.r.o.', '\\\\N', 'CZ', 'AAA\\n']\n['4632528', 'user1185', '1295997', '4b8e528a6118f3cc346e576063f0ea710cf84c94cb8a5bd494b8dbfb6f0bc2c3', 'ip82797', '2c9f1a0a560d045dd087e54a020fd0cab59d345b899342a4c681f0a0f195d8c7', '48926', '37.143.112.0/21', 'Pe3ny Net s.r.o.', '\\\\N', 'CZ', 'AAA\\n']\n"
     ]
    }
   ],
   "source": [
    "## READING TESTING\n",
    "\n",
    "with open('../test_true.txt', 'r') as f:\n",
    "    for line_n, line in enumerate(f):\n",
    "        line_clean = line.replace('\"', '')\n",
    "        line_list = line_clean.split(',')\n",
    "        print(line_list)\n"
   ]
  },
  {
   "cell_type": "code",
   "execution_count": 24,
   "metadata": {},
   "outputs": [],
   "source": [
    "## CSV WRITING TESTING\n",
    "# je to lehci, hezci, ale bude se do \"\" davat i to \\N, jinak to asi nepujde\n",
    "\n",
    "f_in = open('../test2.txt', 'r')\n",
    "csv_r = csv.reader(f_in, delimiter=',')\n",
    "f_out = open('../test3.txt', 'w')\n",
    "csv_w = csv.writer(f_out, delimiter=',', quoting=csv.QUOTE_ALL)\n",
    "\n",
    "\n",
    "for line_n, line in enumerate(csv_r):\n",
    "    # line_mod = line[0:-1] + ',' + '\"' + str(1) + '\"' + \"\\n\"\n",
    "    # contents_modified.append(line_mod)\n",
    "    line.append(str(1))\n",
    "    # print(line)\n",
    "    csv_w.writerow(line)\n",
    "\n",
    "# print(contents_modified)\n",
    "\n",
    "f_in.close()\n",
    "f_out.close()"
   ]
  },
  {
   "cell_type": "code",
   "execution_count": 25,
   "metadata": {},
   "outputs": [
    {
     "output_type": "stream",
     "name": "stdout",
     "text": [
      "['time_from_last_action', 0, 0, 1, 0, 1, 0, 0, 0, 1, 0, 1, 0, 0, 1, 0]\n"
     ]
    }
   ],
   "source": [
    "## CSV READING TESTING\n",
    "# dictionary for usernames and time of last found action for the username\n",
    "users = {}\n",
    "# list with times between actions for each line of dataset\n",
    "times = []\n",
    "\n",
    "with open('../test2', \"r\") as f_in:\n",
    "    csv_r = csv.reader(f_in, delimiter=',')\n",
    "    for line_n, line in enumerate(csv_r):\n",
    "        if line_n == 0:\n",
    "            # first line is the names of columns\n",
    "            times.append(\"time_from_last_action\")\n",
    "            continue\n",
    "\n",
    "        user = line[1]\n",
    "        time_now = int(line[2])\n",
    "\n",
    "        if user in users:\n",
    "            time = time_now - users[user]\n",
    "            times.append(time)\n",
    "            # rewrite the last found action in dictionary\n",
    "            users[user] = time_now\n",
    "        else:\n",
    "            # first case with this username, so time from last action is 0\n",
    "            times.append(0)\n",
    "            users[user] = time_now\n",
    "\n",
    "print(times)"
   ]
  },
  {
   "cell_type": "code",
   "execution_count": 26,
   "metadata": {},
   "outputs": [],
   "source": [
    "def _get_times_between_actions(file):\n",
    "    # dictionary for usernames and time of last found action for the username\n",
    "    users = {}\n",
    "    # list with times between actions for each line of dataset\n",
    "    times = []\n",
    "\n",
    "    with open(file, \"r\") as f_in:\n",
    "        for line_n, line in enumerate(f_in):\n",
    "            if line_n == 0:\n",
    "                # first line is the names of columns\n",
    "                times.append(\"time_from_last_action\")\n",
    "                continue\n",
    "\n",
    "            line_clean = line.replace('\"', '')\n",
    "            line_list = line_clean.split(',')\n",
    "            user = line_list[1]\n",
    "            time_now = int(line_list[2])\n",
    "\n",
    "            if user in users:\n",
    "                time = time_now - users[user]\n",
    "                times.append(time)\n",
    "                # rewrite the last found action in dictionary\n",
    "                users[user] = time_now\n",
    "            else:\n",
    "                # first case with this username, so time from last action is 0\n",
    "                times.append(0)\n",
    "                users[user] = time_now\n",
    "\n",
    "    return times\n",
    "\n",
    "def _get_times_between_actions_csv(file):\n",
    "    # dictionary for usernames and time of last found action for the username\n",
    "    users = {}\n",
    "    # list with times between actions for each line of dataset\n",
    "    times = []\n",
    "\n",
    "    with open(file, \"r\") as f_in:\n",
    "        csv_r = csv.reader(f_in, delimiter=',')\n",
    "        for line_n, line in enumerate(csv_r):\n",
    "            if line_n == 0:\n",
    "                # first line is the names of columns\n",
    "                times.append(\"time_from_last_action\")\n",
    "                continue\n",
    "\n",
    "            user = line[1]\n",
    "            time_now = int(line[2])\n",
    "\n",
    "            if user in users:\n",
    "                time = time_now - users[user]\n",
    "                times.append(time)\n",
    "                # rewrite the last found action in dictionary\n",
    "                users[user] = time_now\n",
    "            else:\n",
    "                # first case with this username, so time from last action is 0\n",
    "                times.append(0)\n",
    "                users[user] = time_now\n",
    "\n",
    "    return times\n",
    "\n",
    "def _write_times_between_actions(file, actions):\n",
    "    f_in = open(file, \"r\")\n",
    "    contents = f_in.readlines()\n",
    "    f_in.close()\n",
    "\n",
    "    contents_modified = []\n",
    "\n",
    "    for line_n, line in enumerate(contents):\n",
    "        # we know that line[-1] will always be '\\n', because we check the file format\n",
    "        # so the modified line is:\n",
    "        # unmodified line up until '\\n' + separator + time between actions + '\\n'\n",
    "        line_mod = line[0:-1] + ',' + '\"' + str(actions[line_n]) + '\"' + \"\\n\"\n",
    "        contents_modified.append(line_mod)\n",
    "\n",
    "    f_out = open(file, \"w\")\n",
    "    f_out.writelines(contents_modified)\n",
    "    f_out.close()\n",
    "\n",
    "def _write_times_between_actions_csv(file, actions):\n",
    "    f_in = open(file, 'r')\n",
    "    csv_r = csv.reader(f_in, delimiter=',')\n",
    "    f_out = open(file + '_o', 'w')\n",
    "    csv_w = csv.writer(f_out, delimiter=',', quoting=csv.QUOTE_ALL)\n",
    "\n",
    "\n",
    "    for line_n, line in enumerate(csv_r):\n",
    "        line.append(str(actions[line_n]))\n",
    "        csv_w.writerow(line)\n",
    "\n",
    "    f_in.close()\n",
    "    f_out.close()\n",
    "\n",
    "def count_time_between_actions(file):\n",
    "    times = _get_times_between_actions_csv(file)\n",
    "    _write_times_between_actions_csv(file, times)"
   ]
  },
  {
   "cell_type": "code",
   "execution_count": 5,
   "metadata": {},
   "outputs": [
    {
     "output_type": "stream",
     "name": "stdout",
     "text": [
      "[['4632514', 'user1185', '1295992', '4b8e528a6118f3cc346e576063f0ea710cf84c94cb8a5bd494b8dbfb6f0bc2c3', 'ip82797', '7b22c906375917c120961b6103a1caa2034a44954efd1825acc7a71b579edcb8', '48926', '37.143.112.0/21', 'Pe3ny Net s.r.o.', '\\\\N', 'CZ', 'AAA'], ['4632515', 'user1185', '1295992', '4b8e528a6118f3cc346e576063f0ea710cf84c94cb8a5bd494b8dbfb6f0bc2c3', 'ip82797', 'ae7a1aa47d2445d0a960b0980a3f3df01c3c3934aa38674288f4a7ee423f0783', '48926', '37.143.112.0/21', 'Pe3ny Net s.r.o.', '\\\\N', 'CZ', 'AAA'], ['4632516', 'user1185', '1295993', '4b8e528a6118f3cc346e576063f0ea710cf84c94cb8a5bd494b8dbfb6f0bc2c3', 'ip82797', '8bd57d7e2115a820f55a99b9a1ec414855a64ab5187c1825b4cfc9091f4434ce', '48926', '37.143.112.0/21', 'Pe3ny Net s.r.o.', '\\\\N', 'CZ', 'AAA'], ['4632517', 'user1185', '1295993', '4b8e528a6118f3cc346e576063f0ea710cf84c94cb8a5bd494b8dbfb6f0bc2c3', 'ip82797', 'bd18a48a02cc6f5f8c2daf0c821002d0a4c69e040217a6be34ab4afdd1a061e1', '48926', '37.143.112.0/21', 'Pe3ny Net s.r.o.', '\\\\N', 'CZ', 'AAA'], ['4632518', 'user1185', '1295994', '4b8e528a6118f3cc346e576063f0ea710cf84c94cb8a5bd494b8dbfb6f0bc2c3', 'ip82797', '8938113f178d94ed4fa0154d5ec1cd826ee15f963088dec9b457e0b52523661a', '48926', '37.143.112.0/21', 'Pe3ny Net s.r.o.', '\\\\N', 'CZ', 'AAA'], ['4632519', 'user1185', '1295994', '4b8e528a6118f3cc346e576063f0ea710cf84c94cb8a5bd494b8dbfb6f0bc2c3', 'ip82797', 'de4378cd691759535b4efbb2faceb30744e6fa05d44417d6bb50c5c356c7d7cf', '48926', '37.143.112.0/21', 'Pe3ny Net s.r.o.', '\\\\N', 'CZ', 'AAA'], ['4632520', 'user1185', '1295994', '4b8e528a6118f3cc346e576063f0ea710cf84c94cb8a5bd494b8dbfb6f0bc2c3', 'ip82797', '22f67642c417c3defb969a055e714771ae51b2f5f94af4ffa6c0963429af3ea1', '48926', '37.143.112.0/21', 'Pe3ny Net s.r.o.', '\\\\N', 'CZ', 'AAA'], ['4632521', 'user1994', '1295995', 'ce2b1e7bcd2d400f19667c64ce7f12a7a24d54dfe4718f623fef152c78324619', 'ip78795', 'c358d74d617752a38a2dc6b4e30fe7845ca558bb8a5b9ea453ee64672bac543e', '29321', '217.195.160.0/20', 'CentroNet a.s.', '\\\\N', 'CZ', '\\\\N'], ['4632522', 'user1185', '1295995', '4b8e528a6118f3cc346e576063f0ea710cf84c94cb8a5bd494b8dbfb6f0bc2c3', 'ip82797', 'e95ae681e258202750f3a676dc01eb5b25d9332d3c18de1d8fe5aeef29c2c3e1', '48926', '37.143.112.0/21', 'Pe3ny Net s.r.o.', '\\\\N', 'CZ', 'AAA'], ['4632523', 'user1185', '1295995', '4b8e528a6118f3cc346e576063f0ea710cf84c94cb8a5bd494b8dbfb6f0bc2c3', 'ip82797', '55e4592666c22558329890e7a726156cc8ba34c6c95aafbfb79b087a2d8077b5', '48926', '37.143.112.0/21', 'Pe3ny Net s.r.o.', '\\\\N', 'CZ', 'AAA'], ['4632524', 'user1185', '1295996', '4b8e528a6118f3cc346e576063f0ea710cf84c94cb8a5bd494b8dbfb6f0bc2c3', 'ip82797', 'f55920eab79379da7940bb5fcf299bedf5e26b1ba7a5f4bd5de31709fad2505c', '48926', '37.143.112.0/21', 'Pe3ny Net s.r.o.', '\\\\N', 'CZ', 'AAA'], ['4632525', 'user1185', '1295996', '4b8e528a6118f3cc346e576063f0ea710cf84c94cb8a5bd494b8dbfb6f0bc2c3', 'ip82797', '713b67569e8284eb3ff60c6933329f2ef08c4ed59afea3478af0a428783e5aa4', '48926', '37.143.112.0/21', 'Pe3ny Net s.r.o.', '\\\\N', 'CZ', 'AAA'], ['4632526', 'user452', '1295997', 'ce2b1e7bcd2d400f19667c64ce7f12a7a24d54dfe4718f623fef152c78324619', 'ip454', '2c2ba0595fc513e2608bf6f25219951d0f87642ce32ffc2e2ebc2228fe533317', '5610', '109.80.0.0/15', 'O2 Czech Republic, a.s.', '\\\\N', 'SK', '\\\\N'], ['4632527', 'user1185', '1295997', '4b8e528a6118f3cc346e576063f0ea710cf84c94cb8a5bd494b8dbfb6f0bc2c3', 'ip82797', '675af12df67ad1dfc2c297f87309cca7b4063728c7454b24e36b5fad54352f49', '48926', '37.143.112.0/21', 'Pe3ny Net s.r.o.', '\\\\N', 'CZ', 'AAA'], ['4632528', 'user1185', '1295997', '4b8e528a6118f3cc346e576063f0ea710cf84c94cb8a5bd494b8dbfb6f0bc2c3', 'ip82797', '2c9f1a0a560d045dd087e54a020fd0cab59d345b899342a4c681f0a0f195d8c7', '48926', '37.143.112.0/21', 'Pe3ny Net s.r.o.', '\\\\N', 'CZ', 'AAA']]\n"
     ]
    }
   ],
   "source": [
    "import csv\n",
    "\n",
    "f_in = open('../test2', 'r', encoding=\"utf-8\")\n",
    "attacks = csv.reader(f_in, delimiter=',')\n",
    "att_l = list(attacks)\n",
    "att_l.pop(0)\n",
    "print(list(att_l))"
   ]
  },
  {
   "cell_type": "code",
   "execution_count": 6,
   "metadata": {},
   "outputs": [
    {
     "output_type": "stream",
     "name": "stdout",
     "text": [
      "2591999\n"
     ]
    }
   ],
   "source": [
    "print(1295997\n",
    "+ 1296002)"
   ]
  },
  {
   "cell_type": "code",
   "execution_count": null,
   "metadata": {},
   "outputs": [],
   "source": []
  }
 ],
 "metadata": {
  "kernelspec": {
   "name": "python3",
   "display_name": "Python 3.9.0 64-bit ('.venv': venv)",
   "metadata": {
    "interpreter": {
     "hash": "3f009c470cba5f30b9fd3124811c3b8305e269610fe0d51a9677c93b078b2269"
    }
   }
  },
  "language_info": {
   "codemirror_mode": {
    "name": "ipython",
    "version": 3
   },
   "file_extension": ".py",
   "mimetype": "text/x-python",
   "name": "python",
   "nbconvert_exporter": "python",
   "pygments_lexer": "ipython3",
   "version": "3.9.0-final"
  }
 },
 "nbformat": 4,
 "nbformat_minor": 2
}