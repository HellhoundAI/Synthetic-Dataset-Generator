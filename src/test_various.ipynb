{
 "cells": [
  {
   "cell_type": "code",
   "execution_count": null,
   "metadata": {},
   "outputs": [],
   "source": [
    "# precist soubor do pole (readlines)\n",
    "# podobne jako generate to file pak pridavat ty counts?\n",
    "# pandas?\n",
    "# pres dictionary mit username: prvni vyskyt\n",
    "# potom updatovat ten vyskyt na nejposlednejsi\n",
    "# pri pridavani do txt file pozor na carky"
   ]
  },
  {
   "cell_type": "code",
   "execution_count": 18,
   "metadata": {},
   "outputs": [
    {
     "name": "stdout",
     "output_type": "stream",
     "text": [
      "{'drahomira': 7, 'radoslav': 6}\n",
      "['last_action', 0, 0, 2, 2, 2, 2, 1, 0, 1, 2]\n"
     ]
    }
   ],
   "source": [
    "# dict s uzivatelskymi jmeny a casy posledni nalezene akce\n",
    "users = {}\n",
    "# pole s casy od poslednich akci pro kazdy radek (ne pro usernames)\n",
    "last_actions = []\n",
    "with open(\"test_count.txt\", \"r\") as f_in:\n",
    "    for line_n, line in enumerate(f_in):\n",
    "        if line_n == 0:\n",
    "            # prvni radek nazev sloupce\n",
    "            last_actions.append(\"last_action\")\n",
    "            continue\n",
    "\n",
    "        line_list = line.split(\",\")\n",
    "        user = line_list[1]\n",
    "        time = int(line_list[2])\n",
    "\n",
    "        if user in users:\n",
    "            last_action = time - users[user]\n",
    "            last_actions.append(last_action)\n",
    "            # aktualizace casu posledni nalezene akce v dict\n",
    "            users[user] = time\n",
    "        else:\n",
    "            # prvni pripad s timto username, cas od posledni akce je tedy 0\n",
    "            last_actions.append(0)\n",
    "            users[user] = time\n",
    "\n",
    "print(users)\n",
    "print(last_actions)"
   ]
  },
  {
   "cell_type": "code",
   "execution_count": 22,
   "metadata": {},
   "outputs": [
    {
     "name": "stdout",
     "output_type": "stream",
     "text": [
      "id,uzivatel,datum,url,odkud,oblast,parametry,last_action\n",
      "\n",
      "2,drahomira,0,google,doma,eduroam,mobil,0\n",
      "\n",
      "5,radoslav,1,yahoo,doma,eduroam,pc,0\n",
      "\n",
      "0,drahomira,2,yahoo,venku,eduroam,pc,2\n",
      "\n",
      "1,radoslav,3,google,venku,zamestnanec,pc,2\n",
      "\n",
      "5,drahomira,4,yahoo,doma,student,mobil,2\n",
      "\n",
      "0,radoslav,5,yahoo,doma,student,mobil,2\n",
      "\n",
      "4,drahomira,5,google,doma,eduroam,mobil,1\n",
      "\n",
      "1,radoslav,5,google,venku,zamestnanec,pc,0\n",
      "\n",
      "4,radoslav,6,yahoo,venku,student,pc,1\n",
      "\n",
      "0,drahomira,7,google,doma,student,mobil,2\n",
      "\n"
     ]
    }
   ],
   "source": [
    "f_log = open(\"test_count.txt\", \"r\")\n",
    "contents = f_log.readlines()\n",
    "f_log.close()\n",
    "\n",
    "contents_modified = []\n",
    "\n",
    "for line_n, line in enumerate(contents):\n",
    "    # vim vzdycky ze line[-1] bude \\n (kvuli file format check)\n",
    "    # print(repr(line[-1]))\n",
    "    line_mod = line[0:-1] + \",\" + str(last_actions[line_n]) + \"\\n\"\n",
    "    # print(repr(line))\n",
    "    # print(repr(line_mod))\n",
    "    print(line_mod)\n",
    "    contents_modified.append(line_mod)\n",
    "\n",
    "\n",
    "f_out = open(\"test_count.txt\", \"w\")\n",
    "f_out.writelines(contents_modified)\n",
    "f_out.close()"
   ]
  },
  {
   "cell_type": "code",
   "execution_count": 3,
   "metadata": {},
   "outputs": [],
   "source": [
    "## transformace datasetu, aby datum byla rostouci rada cisel\n",
    "\n",
    "f_log = open(\"test_long.txt\", \"r\")\n",
    "contents = f_log.readlines()\n",
    "f_log.close()\n",
    "\n",
    "contents_modified = []\n",
    "\n",
    "for line_n, line in enumerate(contents):\n",
    "    line_list = line.split(\",\")\n",
    "    if line_n == 0:\n",
    "        contents_modified.append(line)\n",
    "        continue\n",
    "\n",
    "    line_list[2] = str(line_n - 1)\n",
    "    separator = \",\"\n",
    "    line_mod = separator.join(line_list)\n",
    "    contents_modified.append(separator.join(line_list))\n",
    "\n",
    "f_out = open(\"test_long.txt\", \"w\")\n",
    "f_out.writelines(contents_modified)\n",
    "f_out.close()"
   ]
  },
  {
   "cell_type": "code",
   "execution_count": null,
   "metadata": {},
   "outputs": [],
   "source": []
  }
 ],
 "metadata": {
  "kernelspec": {
   "display_name": ".venv",
   "language": "python",
   "name": ".venv"
  },
  "language_info": {
   "codemirror_mode": {
    "name": "ipython",
    "version": 3
   },
   "file_extension": ".py",
   "mimetype": "text/x-python",
   "name": "python",
   "nbconvert_exporter": "python",
   "pygments_lexer": "ipython3",
   "version": "3.7.3"
  }
 },
 "nbformat": 4,
 "nbformat_minor": 2
}
