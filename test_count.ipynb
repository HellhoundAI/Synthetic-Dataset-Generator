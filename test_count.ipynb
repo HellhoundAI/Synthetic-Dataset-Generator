{
 "metadata": {
  "language_info": {
   "codemirror_mode": {
    "name": "ipython",
    "version": 3
   },
   "file_extension": ".py",
   "mimetype": "text/x-python",
   "name": "python",
   "nbconvert_exporter": "python",
   "pygments_lexer": "ipython3",
   "version": "3.7.3-final"
  },
  "orig_nbformat": 2,
  "kernelspec": {
   "name": "Python 3.7.3 64-bit ('.venv': venv)",
   "display_name": "Python 3.7.3 64-bit ('.venv': venv)",
   "metadata": {
    "interpreter": {
     "hash": "73de34318d21904a5236eb3cb2e63a48bde474f5817f4ed5e40e392263463d82"
    }
   }
  }
 },
 "nbformat": 4,
 "nbformat_minor": 2,
 "cells": [
  {
   "cell_type": "code",
   "execution_count": null,
   "metadata": {},
   "outputs": [],
   "source": [
    "# precist soubor do pole (readlines)\n",
    "# podobne jako generate to file pak pridavat ty counts?\n",
    "# pandas?\n",
    "# pres dictionary mit username: prvni vyskyt\n",
    "# potom updatovat ten vyskyt na nejposlednejsi\n",
    "# pri pridavani do txt file pozor na carky"
   ]
  },
  {
   "cell_type": "code",
   "execution_count": 4,
   "metadata": {},
   "outputs": [
    {
     "output_type": "stream",
     "name": "stdout",
     "text": [
      "{'drahomira': '0', 'radoslav': '1'}\n"
     ]
    }
   ],
   "source": [
    "users = {}\n",
    "with open(\"test_count.txt\", \"r\") as f_in:\n",
    "    for line_n, line in enumerate(f_in):\n",
    "        if line_n == 0:\n",
    "            continue\n",
    "        \n",
    "        line_list = line.split(\",\")\n",
    "        # user musim vyhledat vzdycky, takze ho muzu priradit rovnou a vyhnout se tak dalsimu hledani v poli\n",
    "        # v casti 'else'\n",
    "        user = line_list[1]\n",
    "\n",
    "        if user in users:\n",
    "            # sem pak pujde primo vypocet\n",
    "            continue\n",
    "        else:\n",
    "            # pokud datum dam jako line_list[2] a ne jako zvlastni promennou, vyhnu se tomu, ze bych\n",
    "            # prirazoval promennou zbytecne kdyby uz user byl v users\n",
    "            users[user] = line_list[2]\n",
    "\n",
    "print(users)"
   ]
  },
  {
   "cell_type": "code",
   "execution_count": 18,
   "metadata": {},
   "outputs": [
    {
     "output_type": "stream",
     "name": "stdout",
     "text": [
      "{'drahomira': 7, 'radoslav': 6}\n['last_action', 0, 0, 2, 2, 2, 2, 1, 0, 1, 2]\n"
     ]
    }
   ],
   "source": [
    "# dict s uzivatelskymi jmeny a casy posledni nalezene akce\n",
    "users = {}\n",
    "# pole s casy od poslednich akci pro kazdy radek (ne pro usernames)\n",
    "last_actions = []\n",
    "with open(\"test_count.txt\", \"r\") as f_in:\n",
    "    for line_n, line in enumerate(f_in):\n",
    "        if line_n == 0:\n",
    "            # prvni radek nazev sloupce\n",
    "            last_actions.append(\"last_action\")\n",
    "            continue\n",
    "\n",
    "        line_list = line.split(\",\")\n",
    "        user = line_list[1]\n",
    "        time = int(line_list[2])\n",
    "\n",
    "        if user in users:\n",
    "            last_action = time - users[user]\n",
    "            last_actions.append(last_action)\n",
    "            # aktualizace casu posledni nalezene akce v dict\n",
    "            users[user] = time\n",
    "        else:\n",
    "            # prvni pripad s timto username, cas od posledni akce je tedy 0\n",
    "            last_actions.append(0)\n",
    "            users[user] = time\n",
    "\n",
    "print(users)\n",
    "print(last_actions)"
   ]
  },
  {
   "cell_type": "code",
   "execution_count": 22,
   "metadata": {},
   "outputs": [
    {
     "output_type": "stream",
     "name": "stdout",
     "text": [
      "id,uzivatel,datum,url,odkud,oblast,parametry,last_action\n\n2,drahomira,0,google,doma,eduroam,mobil,0\n\n5,radoslav,1,yahoo,doma,eduroam,pc,0\n\n0,drahomira,2,yahoo,venku,eduroam,pc,2\n\n1,radoslav,3,google,venku,zamestnanec,pc,2\n\n5,drahomira,4,yahoo,doma,student,mobil,2\n\n0,radoslav,5,yahoo,doma,student,mobil,2\n\n4,drahomira,5,google,doma,eduroam,mobil,1\n\n1,radoslav,5,google,venku,zamestnanec,pc,0\n\n4,radoslav,6,yahoo,venku,student,pc,1\n\n0,drahomira,7,google,doma,student,mobil,2\n\n"
     ]
    }
   ],
   "source": [
    "f_log = open(\"test_count.txt\", \"r\")\n",
    "contents = f_log.readlines()\n",
    "f_log.close()\n",
    "\n",
    "contents_modified = []\n",
    "\n",
    "for line_n, line in enumerate(contents):\n",
    "    # vim vzdycky ze line[-1] bude \\n (kvuli file format check)\n",
    "    # print(repr(line[-1]))\n",
    "    line_mod = line[0:-1] + \",\" + str(last_actions[line_n]) + \"\\n\"\n",
    "    # print(repr(line))\n",
    "    # print(repr(line_mod))\n",
    "    print(line_mod)\n",
    "    contents_modified.append(line_mod)\n",
    "\n",
    "\n",
    "f_out = open(\"test_count.txt\", \"w\")\n",
    "f_out.writelines(contents_modified)\n",
    "f_out.close()"
   ]
  },
  {
   "cell_type": "code",
   "execution_count": null,
   "metadata": {},
   "outputs": [],
   "source": []
  }
 ]
}